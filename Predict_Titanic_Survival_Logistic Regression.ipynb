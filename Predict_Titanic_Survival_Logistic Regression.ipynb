{
 "cells": [
  {
   "cell_type": "code",
   "execution_count": null,
   "metadata": {},
   "outputs": [],
   "source": [
    "import pandas as pd\n",
    "import numpy as np\n",
    "import matplotlib.pyplot as plt\n",
    "from sklearn.linear_model import LogisticRegression\n",
    "from sklearn.model_selection import train_test_split\n",
    "from sklearn.preprocessing import StandardScaler\n",
    "# Load the passenger data"
   ]
  },
  {
   "cell_type": "markdown",
   "metadata": {},
   "source": [
    "# clean the data\n",
    "\n"
   ]
  },
  {
   "cell_type": "code",
   "execution_count": null,
   "metadata": {},
   "outputs": [],
   "source": [
    "# Update sex column to numerical\n",
    "passengers.replace(\"female\", 1, inplace = True)\n",
    "passengers.replace(\"male\", 0, inplace = True)"
   ]
  },
  {
   "cell_type": "code",
   "execution_count": null,
   "metadata": {},
   "outputs": [],
   "source": [
    "\n",
    "# Fill the nan values in the age column\n",
    "age_mean = int(passengers.Age.mean())\n",
    "passengers.Age.fillna(value = age_mean,inplace = True)\n"
   ]
  },
  {
   "cell_type": "code",
   "execution_count": null,
   "metadata": {},
   "outputs": [],
   "source": [
    "# Create a first class column\n",
    "passengers.FirstClass = passengers.Pclass.apply(lambda x: 1 if x==1 else 0)\n",
    "\n",
    "# Create a second class column\n",
    "passengers.SecondClass = passengers.Pclass.apply(lambda x: 1 if x==2 else 0)"
   ]
  },
  {
   "cell_type": "code",
   "execution_count": null,
   "metadata": {},
   "outputs": [],
   "source": [
    "# Select the desired features\n",
    "features = passengers[[\"Sex\", \"Age\", \"FirstClass\", \"SecondClass\"]]\n",
    "survival = passengers.Survived"
   ]
  },
  {
   "cell_type": "code",
   "execution_count": null,
   "metadata": {},
   "outputs": [],
   "source": [
    "# Perform train, test, split\n",
    "X_train, X_test, y_train, y_test = train_test_split(features, survival, test_size = 0.2)"
   ]
  },
  {
   "cell_type": "code",
   "execution_count": null,
   "metadata": {},
   "outputs": [],
   "source": [
    "# Scale the feature data so it has mean = 0 and standard deviation = 1\n",
    "scaler = StandardScaler()\n",
    "X_train_scale = scaler.fit_transform(X_train)\n",
    "X_test_scale = scaler.transform(X_test)"
   ]
  },
  {
   "cell_type": "code",
   "execution_count": null,
   "metadata": {},
   "outputs": [],
   "source": [
    "# Create and train the model\n",
    "model = LogisticRegression()\n",
    "model.fit(X_train_scale, y_train)\n",
    "\n",
    "# Score the model on the train data\n",
    "model.score(X_train_scale, y_train)\n",
    "\n",
    "# Score the model on the test data\n",
    "model.score(X_test_scaled, y_test)\n",
    "\n",
    "# Analyze the coefficients\n",
    "print(list(zip(X_train.columns, model.coef_[0])))\n"
   ]
  },
  {
   "cell_type": "code",
   "execution_count": null,
   "metadata": {},
   "outputs": [],
   "source": [
    "# Sample passenger features\n",
    "Jack = np.array([0.0,20.0,0.0,0.0])\n",
    "Rose = np.array([1.0,17.0,1.0,0.0])\n",
    "You = np.array([0.0, 20.0, 1.0, 0.0])\n",
    "\n",
    "# Combine passenger arrays\n",
    "sample_passengers = np.array([Jack, Rose, You])\n",
    "\n",
    "# Scale the sample passenger features\n",
    "sample_passengers_scaled = scaler.transform(sample_passengers)\n",
    "print(sample_passengers_scaled)\n",
    "\n",
    "# Make survival predictions!\n",
    "prediction = model.predict(sample_passengers_scaled)\n",
    "probabilities = model.predict_proba(sample_passengers_scaled)"
   ]
  }
 ],
 "metadata": {
  "kernelspec": {
   "display_name": "Python 3",
   "language": "python",
   "name": "python3"
  },
  "language_info": {
   "codemirror_mode": {
    "name": "ipython",
    "version": 3
   },
   "file_extension": ".py",
   "mimetype": "text/x-python",
   "name": "python",
   "nbconvert_exporter": "python",
   "pygments_lexer": "ipython3",
   "version": "3.7.6"
  }
 },
 "nbformat": 4,
 "nbformat_minor": 4
}
